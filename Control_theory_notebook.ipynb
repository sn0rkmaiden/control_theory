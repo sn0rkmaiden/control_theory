{
  "nbformat": 4,
  "nbformat_minor": 0,
  "metadata": {
    "colab": {
      "provenance": [],
      "authorship_tag": "ABX9TyNwcPGql2YrmoU1EDs/9hPx",
      "include_colab_link": true
    },
    "kernelspec": {
      "name": "python3",
      "display_name": "Python 3"
    },
    "language_info": {
      "name": "python"
    }
  },
  "cells": [
    {
      "cell_type": "markdown",
      "metadata": {
        "id": "view-in-github",
        "colab_type": "text"
      },
      "source": [
        "<a href=\"https://colab.research.google.com/github/sn0rkmaiden/control_theory/blob/main/Control_theory_notebook.ipynb\" target=\"_parent\"><img src=\"https://colab.research.google.com/assets/colab-badge.svg\" alt=\"Open In Colab\"/></a>"
      ]
    },
    {
      "cell_type": "code",
      "source": [
        "import numpy as np\n",
        "from sympy import *\n",
        "from numpy import linalg\n",
        "from scipy.linalg import expm\n",
        "import copy"
      ],
      "metadata": {
        "id": "_2XY2Q8yr_UR"
      },
      "execution_count": 11,
      "outputs": []
    },
    {
      "cell_type": "markdown",
      "source": [
        "# Program #1"
      ],
      "metadata": {
        "id": "3tAuAn-sr6LB"
      }
    },
    {
      "cell_type": "code",
      "execution_count": 42,
      "metadata": {
        "id": "Jc0DDlGAr3iw"
      },
      "outputs": [],
      "source": [
        "n = 2\n",
        "P = np.array([[1, 1], [0, 1]])\n",
        "Q = np.array([[0], [1]])\n",
        "f = np.array([[0], [0]])\n",
        "x0 = np.array([[0], [0]])\n",
        "x1 = np.array([[1], [1]])\n",
        "T = 1"
      ]
    },
    {
      "cell_type": "markdown",
      "source": [
        "✅ Check if system is controllable"
      ],
      "metadata": {
        "id": "i1w-uHLcro6m"
      }
    },
    {
      "cell_type": "code",
      "source": [
        "def isControllable(P, Q, n):\n",
        "  components = []\n",
        "  components.append(Q)\n",
        "  temp = copy.deepcopy(P)\n",
        "  for i in range(0, n - 1):\n",
        "    components.append(np.dot(temp, Q))\n",
        "    temp = np.dot(temp, P)\n",
        "  S = np.hstack(components)\n",
        "  return linalg.matrix_rank(S) == n"
      ],
      "metadata": {
        "id": "QUh0K4lyuHTm"
      },
      "execution_count": 43,
      "outputs": []
    },
    {
      "cell_type": "code",
      "source": [
        "isControllable(P, Q, n)"
      ],
      "metadata": {
        "colab": {
          "base_uri": "https://localhost:8080/"
        },
        "id": "YbGtEXq9tbjo",
        "outputId": "022da3c1-3023-4bd0-d58a-de29a793cf13"
      },
      "execution_count": 44,
      "outputs": [
        {
          "output_type": "execute_result",
          "data": {
            "text/plain": [
              "True"
            ]
          },
          "metadata": {},
          "execution_count": 44
        }
      ]
    },
    {
      "cell_type": "code",
      "source": [
        "t = symbols('t')"
      ],
      "metadata": {
        "id": "YlcHSJlzrVJz"
      },
      "execution_count": 45,
      "outputs": []
    },
    {
      "cell_type": "code",
      "source": [
        "P = Matrix(P)\n",
        "Q = Matrix(Q)\n",
        "f = Matrix(f)\n",
        "x0 = Matrix(x0)\n",
        "x1 = Matrix(x1)"
      ],
      "metadata": {
        "id": "-uCmOjUyrN5u"
      },
      "execution_count": 46,
      "outputs": []
    },
    {
      "cell_type": "markdown",
      "source": [
        "$$ Y = e^{Pt} $$"
      ],
      "metadata": {
        "id": "6cdEcX_Cu6l1"
      }
    },
    {
      "cell_type": "code",
      "source": [
        "Y = exp(P*t)\n",
        "Y"
      ],
      "metadata": {
        "colab": {
          "base_uri": "https://localhost:8080/",
          "height": 58
        },
        "id": "wyCL8ry-rIFl",
        "outputId": "46a482f8-cae1-4748-ff07-bec7d6f6a1e0"
      },
      "execution_count": 47,
      "outputs": [
        {
          "output_type": "execute_result",
          "data": {
            "text/plain": [
              "Matrix([\n",
              "[exp(t), t*exp(t)],\n",
              "[     0,   exp(t)]])"
            ],
            "text/latex": "$\\displaystyle \\left[\\begin{matrix}e^{t} & t e^{t}\\\\0 & e^{t}\\end{matrix}\\right]$"
          },
          "metadata": {},
          "execution_count": 47
        }
      ]
    },
    {
      "cell_type": "markdown",
      "source": [
        "$$ B = Y(t)^{-1} \\cdot Q(t) $$"
      ],
      "metadata": {
        "id": "ovcQc7ZEu0hm"
      }
    },
    {
      "cell_type": "code",
      "source": [
        "B = Y.inv() * Q\n",
        "B"
      ],
      "metadata": {
        "colab": {
          "base_uri": "https://localhost:8080/",
          "height": 58
        },
        "id": "PcMYp_iOq3y1",
        "outputId": "fc6be528-2225-4b6e-d0c8-b39a32ad6aac"
      },
      "execution_count": 48,
      "outputs": [
        {
          "output_type": "execute_result",
          "data": {
            "text/plain": [
              "Matrix([\n",
              "[-t*exp(-t)],\n",
              "[   exp(-t)]])"
            ],
            "text/latex": "$\\displaystyle \\left[\\begin{matrix}- t e^{- t}\\\\e^{- t}\\end{matrix}\\right]$"
          },
          "metadata": {},
          "execution_count": 48
        }
      ]
    },
    {
      "cell_type": "markdown",
      "source": [
        "$$ A = \\int_{0}^{T} B(t) \\cdot B(t)^{t} dt $$"
      ],
      "metadata": {
        "id": "v7O9pvRIuq0p"
      }
    },
    {
      "cell_type": "code",
      "source": [
        "A = integrate(B * B.transpose(), (t, 0, T))\n",
        "A"
      ],
      "metadata": {
        "colab": {
          "base_uri": "https://localhost:8080/",
          "height": 58
        },
        "id": "PAfnrSBDsPex",
        "outputId": "da6d6422-1186-4e14-e555-c64505b7947c"
      },
      "execution_count": 49,
      "outputs": [
        {
          "output_type": "execute_result",
          "data": {
            "text/plain": [
              "Matrix([\n",
              "[ 1/4 - 5*exp(-2)/4, -1/4 + 3*exp(-2)/4],\n",
              "[-1/4 + 3*exp(-2)/4,    1/2 - exp(-2)/2]])"
            ],
            "text/latex": "$\\displaystyle \\left[\\begin{matrix}\\frac{1}{4} - \\frac{5}{4 e^{2}} & - \\frac{1}{4} + \\frac{3}{4 e^{2}}\\\\- \\frac{1}{4} + \\frac{3}{4 e^{2}} & \\frac{1}{2} - \\frac{1}{2 e^{2}}\\end{matrix}\\right]$"
          },
          "metadata": {},
          "execution_count": 49
        }
      ]
    },
    {
      "cell_type": "markdown",
      "source": [
        "$$\\mu = Y(T)^{-1} \\cdot x_{T} - x_{0} - \\int_{0}^{T} Y(t)^{-1} \\cdot f(t) dt$$"
      ],
      "metadata": {
        "id": "Gg4VlamkuDul"
      }
    },
    {
      "cell_type": "code",
      "source": [
        "mu = Y.inv().subs(t, T) * x1 - x0 - integrate(Y.inv()*f, (t, 0, T))\n",
        "mu"
      ],
      "metadata": {
        "colab": {
          "base_uri": "https://localhost:8080/",
          "height": 58
        },
        "id": "eIcThJQ8t5Wq",
        "outputId": "7b37630d-04d4-4aea-f511-639e9cea5df0"
      },
      "execution_count": 52,
      "outputs": [
        {
          "output_type": "execute_result",
          "data": {
            "text/plain": [
              "Matrix([\n",
              "[      0],\n",
              "[exp(-1)]])"
            ],
            "text/latex": "$\\displaystyle \\left[\\begin{matrix}0\\\\e^{-1}\\end{matrix}\\right]$"
          },
          "metadata": {},
          "execution_count": 52
        }
      ]
    },
    {
      "cell_type": "markdown",
      "source": [
        "Solving system: $$AC=\\mu$$ $$C = A^{-1} \\cdot \\mu$$"
      ],
      "metadata": {
        "id": "KPW886i9tXgf"
      }
    },
    {
      "cell_type": "code",
      "source": [
        "C = A.inv() * mu\n",
        "simplify(C)"
      ],
      "metadata": {
        "colab": {
          "base_uri": "https://localhost:8080/",
          "height": 78
        },
        "id": "Ulz6gesGtW4f",
        "outputId": "3401087e-68d9-4372-bf19-fe073f501d77"
      },
      "execution_count": 54,
      "outputs": [
        {
          "output_type": "execute_result",
          "data": {
            "text/plain": [
              "Matrix([\n",
              "[4*E*(-3 + exp(2))/(-6*exp(2) + 1 + exp(4))],\n",
              "[4*E*(-5 + exp(2))/(-6*exp(2) + 1 + exp(4))]])"
            ],
            "text/latex": "$\\displaystyle \\left[\\begin{matrix}\\frac{4 e \\left(-3 + e^{2}\\right)}{- 6 e^{2} + 1 + e^{4}}\\\\\\frac{4 e \\left(-5 + e^{2}\\right)}{- 6 e^{2} + 1 + e^{4}}\\end{matrix}\\right]$"
          },
          "metadata": {},
          "execution_count": 54
        }
      ]
    },
    {
      "cell_type": "code",
      "source": [
        "C.evalf()"
      ],
      "metadata": {
        "colab": {
          "base_uri": "https://localhost:8080/",
          "height": 58
        },
        "id": "Oxh_KtcqyLzG",
        "outputId": "5072ac5a-b604-42b3-f7e1-69bd598f0819"
      },
      "execution_count": 58,
      "outputs": [
        {
          "output_type": "execute_result",
          "data": {
            "text/plain": [
              "Matrix([\n",
              "[ 4.2368213933331],\n",
              "[2.30619152767002]])"
            ],
            "text/latex": "$\\displaystyle \\left[\\begin{matrix}4.2368213933331\\\\2.30619152767002\\end{matrix}\\right]$"
          },
          "metadata": {},
          "execution_count": 58
        }
      ]
    },
    {
      "cell_type": "markdown",
      "source": [
        "$$ u = B(t)^{T} \\cdot C $$"
      ],
      "metadata": {
        "id": "0jdPKU2jxJ5u"
      }
    },
    {
      "cell_type": "code",
      "source": [
        "u = B.transpose() * C\n",
        "simplify(u)"
      ],
      "metadata": {
        "colab": {
          "base_uri": "https://localhost:8080/",
          "height": 47
        },
        "id": "PjOXMM0Zw6jD",
        "outputId": "00abe3d5-eb2c-41d6-c0fc-5f6ad908e99c"
      },
      "execution_count": 59,
      "outputs": [
        {
          "output_type": "execute_result",
          "data": {
            "text/plain": [
              "Matrix([[4*(-t*exp(2) + 3*t - 5 + exp(2))*exp(1 - t)/(-6*exp(2) + 1 + exp(4))]])"
            ],
            "text/latex": "$\\displaystyle \\left[\\begin{matrix}\\frac{4 \\left(- t e^{2} + 3 t - 5 + e^{2}\\right) e^{1 - t}}{- 6 e^{2} + 1 + e^{4}}\\end{matrix}\\right]$"
          },
          "metadata": {},
          "execution_count": 59
        }
      ]
    },
    {
      "cell_type": "markdown",
      "source": [
        "# Program #2"
      ],
      "metadata": {
        "id": "qo_jVa1czE_A"
      }
    },
    {
      "cell_type": "markdown",
      "source": [
        "$$ \\{\n",
        "\\begin{aligned}\n",
        "  \\dot{x} &= Px + f(t)  \\\\\n",
        "  y &= Rx + \\phi(t)\n",
        "\\end{aligned} $$\n",
        "\n",
        "$$ Given: y = \\Phi(t) $$"
      ],
      "metadata": {
        "id": "FF8jN_Qy0c5v"
      }
    },
    {
      "cell_type": "markdown",
      "source": [
        "$$ P ∈ [n \\times n] \\\\ f(t) ∈ [n \\times 1] \\\\ R(t) ∈ [m \\times n] \\\\ g(t) ∈ [m \\times 1] \\\\ \\phi ∈ [m \\times 1]  $$"
      ],
      "metadata": {
        "id": "rmE3-p3zzz89"
      }
    },
    {
      "cell_type": "code",
      "source": [
        "n = 3\n",
        "m = 1\n",
        "P = np.array([[0, 0, 0], [1, 0, 0], [0, 1, 0]])\n",
        "f = np.array([[0], [0], [0]])\n",
        "R = np.array([[0, 0, 1]])\n",
        "phi = np.array([[0]])\n",
        "Phi = np.array([[2]])\n",
        "T = 1\n",
        "x0 = 0\n",
        "x1 = 1"
      ],
      "metadata": {
        "id": "GLfJjusqzICD"
      },
      "execution_count": 81,
      "outputs": []
    },
    {
      "cell_type": "code",
      "source": [
        "def isObservable(R, P, n):\n",
        "  components = []\n",
        "  components.append(R.transpose())\n",
        "  temp = copy.deepcopy(P.transpose())\n",
        "  for i in range(0, n - 1):\n",
        "    components.append(np.dot(temp, R.transpose()))\n",
        "    temp = np.dot(temp, P.transpose())\n",
        "  S = np.hstack(components)\n",
        "  return linalg.matrix_rank(S) == n"
      ],
      "metadata": {
        "id": "hbicD-Lg2YyA"
      },
      "execution_count": 82,
      "outputs": []
    },
    {
      "cell_type": "code",
      "source": [
        "isObservable(R, P, n)"
      ],
      "metadata": {
        "colab": {
          "base_uri": "https://localhost:8080/"
        },
        "id": "M3gC3c9o3q4v",
        "outputId": "60561697-c2b2-4165-ee18-b97e7e4352d2"
      },
      "execution_count": 83,
      "outputs": [
        {
          "output_type": "execute_result",
          "data": {
            "text/plain": [
              "True"
            ]
          },
          "metadata": {},
          "execution_count": 83
        }
      ]
    },
    {
      "cell_type": "code",
      "source": [
        "t = symbols('t')"
      ],
      "metadata": {
        "id": "o_ToJLpw4AKv"
      },
      "execution_count": 84,
      "outputs": []
    },
    {
      "cell_type": "code",
      "source": [
        "P = Matrix(P)\n",
        "R = Matrix(R)"
      ],
      "metadata": {
        "id": "qIjvLyR24BOw"
      },
      "execution_count": 85,
      "outputs": []
    },
    {
      "cell_type": "markdown",
      "source": [
        "$$ Y = e^{Pt} $$"
      ],
      "metadata": {
        "id": "uAjP8O1838sx"
      }
    },
    {
      "cell_type": "code",
      "source": [
        "Y = exp(P*t)\n",
        "Y"
      ],
      "metadata": {
        "colab": {
          "base_uri": "https://localhost:8080/",
          "height": 81
        },
        "id": "-86ISiyK39ko",
        "outputId": "121b008c-2581-46fd-c3f8-d4c22f198b28"
      },
      "execution_count": 86,
      "outputs": [
        {
          "output_type": "execute_result",
          "data": {
            "text/plain": [
              "Matrix([\n",
              "[     1, 0, 0],\n",
              "[     t, 1, 0],\n",
              "[t**2/2, t, 1]])"
            ],
            "text/latex": "$\\displaystyle \\left[\\begin{matrix}1 & 0 & 0\\\\t & 1 & 0\\\\\\frac{t^{2}}{2} & t & 1\\end{matrix}\\right]$"
          },
          "metadata": {},
          "execution_count": 86
        }
      ]
    },
    {
      "cell_type": "markdown",
      "source": [
        "$$ H(t) = R \\cdot Y(t) $$"
      ],
      "metadata": {
        "id": "BUEYx62d4JP_"
      }
    },
    {
      "cell_type": "code",
      "source": [
        "H = R * Y\n",
        "H"
      ],
      "metadata": {
        "colab": {
          "base_uri": "https://localhost:8080/",
          "height": 47
        },
        "id": "Ojv4xDro4HH1",
        "outputId": "030cea76-a8c2-4e00-dd00-497ff0ff3e7a"
      },
      "execution_count": 87,
      "outputs": [
        {
          "output_type": "execute_result",
          "data": {
            "text/plain": [
              "Matrix([[t**2/2, t, 1]])"
            ],
            "text/latex": "$\\displaystyle \\left[\\begin{matrix}\\frac{t^{2}}{2} & t & 1\\end{matrix}\\right]$"
          },
          "metadata": {},
          "execution_count": 87
        }
      ]
    },
    {
      "cell_type": "markdown",
      "source": [
        "$$ D = \\int_{0}^{T} H(t)^{T} \\cdot H(t) dt $$"
      ],
      "metadata": {
        "id": "0lXHiYbk4Tj_"
      }
    },
    {
      "cell_type": "code",
      "source": [
        "D = integrate(H.transpose() * H, (t, 0, T))\n",
        "D"
      ],
      "metadata": {
        "colab": {
          "base_uri": "https://localhost:8080/",
          "height": 78
        },
        "id": "GeztvQFn4SRU",
        "outputId": "bc4d460d-1b79-4c8d-ceb7-0f4c663b1ac4"
      },
      "execution_count": 88,
      "outputs": [
        {
          "output_type": "execute_result",
          "data": {
            "text/plain": [
              "Matrix([\n",
              "[1/20, 1/8, 1/6],\n",
              "[ 1/8, 1/3, 1/2],\n",
              "[ 1/6, 1/2,   1]])"
            ],
            "text/latex": "$\\displaystyle \\left[\\begin{matrix}\\frac{1}{20} & \\frac{1}{8} & \\frac{1}{6}\\\\\\frac{1}{8} & \\frac{1}{3} & \\frac{1}{2}\\\\\\frac{1}{6} & \\frac{1}{2} & 1\\end{matrix}\\right]$"
          },
          "metadata": {},
          "execution_count": 88
        }
      ]
    },
    {
      "cell_type": "markdown",
      "source": [
        "$$ g(t) = y(t) - \\phi(t) - H(t) * \\int_{0}^{t} Y(\\tau)^{-1} \\cdot H(\\tau) d\\tau $$"
      ],
      "metadata": {
        "id": "PGcaD_7H42m4"
      }
    },
    {
      "cell_type": "code",
      "source": [
        "g = Phi - phi - H * integrate(Y.inv() * f, (t, 0, t))\n",
        "g"
      ],
      "metadata": {
        "colab": {
          "base_uri": "https://localhost:8080/",
          "height": 39
        },
        "id": "82zs8RxQ42bn",
        "outputId": "8b6a5048-fe7f-4d6d-c9ad-26684ce64947"
      },
      "execution_count": 90,
      "outputs": [
        {
          "output_type": "execute_result",
          "data": {
            "text/plain": [
              "Matrix([[2]])"
            ],
            "text/latex": "$\\displaystyle \\left[\\begin{matrix}2\\end{matrix}\\right]$"
          },
          "metadata": {},
          "execution_count": 90
        }
      ]
    },
    {
      "cell_type": "markdown",
      "source": [
        "$$ \\mu = \\int_{0}^{T} H(t)^{T} \\cdot g(t) dt $$"
      ],
      "metadata": {
        "id": "etSkXY334kiB"
      }
    },
    {
      "cell_type": "code",
      "source": [
        "mu = integrate(H.transpose() * g, (t, 0, T))\n",
        "mu"
      ],
      "metadata": {
        "colab": {
          "base_uri": "https://localhost:8080/",
          "height": 78
        },
        "id": "rCsZVKFJ4hfv",
        "outputId": "3c345212-48cd-48d8-8e8c-007f8132d666"
      },
      "execution_count": 91,
      "outputs": [
        {
          "output_type": "execute_result",
          "data": {
            "text/plain": [
              "Matrix([\n",
              "[1/3],\n",
              "[  1],\n",
              "[  2]])"
            ],
            "text/latex": "$\\displaystyle \\left[\\begin{matrix}\\frac{1}{3}\\\\1\\\\2\\end{matrix}\\right]$"
          },
          "metadata": {},
          "execution_count": 91
        }
      ]
    },
    {
      "cell_type": "markdown",
      "source": [
        "$$ D \\cdot x_{0} = mu  $$"
      ],
      "metadata": {
        "id": "Lf3NmtAC6Ho0"
      }
    },
    {
      "cell_type": "code",
      "source": [
        "x_init = D.inv() * mu\n",
        "x_init"
      ],
      "metadata": {
        "colab": {
          "base_uri": "https://localhost:8080/",
          "height": 78
        },
        "id": "FS8mvK7p6F9I",
        "outputId": "b0c9b88f-76bd-4bad-c0ee-2ac85eb1314f"
      },
      "execution_count": 94,
      "outputs": [
        {
          "output_type": "execute_result",
          "data": {
            "text/plain": [
              "Matrix([\n",
              "[0],\n",
              "[0],\n",
              "[2]])"
            ],
            "text/latex": "$\\displaystyle \\left[\\begin{matrix}0\\\\0\\\\2\\end{matrix}\\right]$"
          },
          "metadata": {},
          "execution_count": 94
        }
      ]
    },
    {
      "cell_type": "markdown",
      "source": [
        "$$ x = Y(t) \\cdot x_{0}$$"
      ],
      "metadata": {
        "id": "5ol1LAWG6T_b"
      }
    },
    {
      "cell_type": "code",
      "source": [
        "x_final = Y * x_init\n",
        "x_final"
      ],
      "metadata": {
        "colab": {
          "base_uri": "https://localhost:8080/",
          "height": 78
        },
        "id": "dbCFin7N6Tnw",
        "outputId": "109f0c3e-c7ba-4370-b53c-2c6468c24858"
      },
      "execution_count": 95,
      "outputs": [
        {
          "output_type": "execute_result",
          "data": {
            "text/plain": [
              "Matrix([\n",
              "[0],\n",
              "[0],\n",
              "[2]])"
            ],
            "text/latex": "$\\displaystyle \\left[\\begin{matrix}0\\\\0\\\\2\\end{matrix}\\right]$"
          },
          "metadata": {},
          "execution_count": 95
        }
      ]
    }
  ]
}